{
 "cells": [
  {
   "cell_type": "markdown",
   "metadata": {},
   "source": [
    "# Book Recommendations\n",
    "\n",
    "The goal of the project is to build a recommender system that suggests relevant books based on the person's interests."
   ]
  },
  {
   "cell_type": "markdown",
   "metadata": {},
   "source": [
    "## Collaborative filtering using `surprise` library: \n",
    "\n",
    "### Experiments with 10 different algorithms\n",
    "\n",
    "Run cross-validation on the training set and compare the results to shortlist a few models."
   ]
  },
  {
   "cell_type": "code",
   "execution_count": 1,
   "metadata": {},
   "outputs": [],
   "source": [
    "# For reproducible experiments\n",
    "\n",
    "import random\n",
    "import numpy as np\n",
    "\n",
    "my_seed = 42\n",
    "random.seed(my_seed)\n",
    "np.random.seed(my_seed)"
   ]
  },
  {
   "cell_type": "code",
   "execution_count": 2,
   "metadata": {},
   "outputs": [],
   "source": [
    "import pandas as pd\n",
    "\n",
    "from surprise import NormalPredictor, BaselineOnly\n",
    "from surprise import SVD, SVDpp, NMF\n",
    "from surprise import SlopeOne, CoClustering\n",
    "from surprise import KNNBasic, KNNWithMeans, KNNBaseline, KNNWithZScore\n",
    "from surprise import Dataset, Reader\n",
    "from surprise import accuracy\n",
    "from surprise.model_selection import cross_validate\n",
    "from surprise.model_selection import train_test_split\n",
    "from surprise.model_selection import GridSearchCV"
   ]
  },
  {
   "cell_type": "markdown",
   "metadata": {},
   "source": [
    "## 1. Load and prepare the data"
   ]
  },
  {
   "cell_type": "markdown",
   "metadata": {},
   "source": [
    "#### Read the training and test set into DataFrames"
   ]
  },
  {
   "cell_type": "code",
   "execution_count": 3,
   "metadata": {},
   "outputs": [
    {
     "name": "stdout",
     "output_type": "stream",
     "text": [
      "(5080007, 3)\n",
      "(896472, 3)\n"
     ]
    }
   ],
   "source": [
    "ratings_train = pd.read_csv('../data/ratings_train.csv')\n",
    "ratings_test = pd.read_csv('../data/ratings_test.csv')\n",
    "\n",
    "print(ratings_train.shape)\n",
    "print(ratings_test.shape)"
   ]
  },
  {
   "cell_type": "code",
   "execution_count": 4,
   "metadata": {},
   "outputs": [
    {
     "data": {
      "text/html": [
       "<div>\n",
       "<style scoped>\n",
       "    .dataframe tbody tr th:only-of-type {\n",
       "        vertical-align: middle;\n",
       "    }\n",
       "\n",
       "    .dataframe tbody tr th {\n",
       "        vertical-align: top;\n",
       "    }\n",
       "\n",
       "    .dataframe thead th {\n",
       "        text-align: right;\n",
       "    }\n",
       "</style>\n",
       "<table border=\"1\" class=\"dataframe\">\n",
       "  <thead>\n",
       "    <tr style=\"text-align: right;\">\n",
       "      <th></th>\n",
       "      <th>user_id</th>\n",
       "      <th>book_id</th>\n",
       "      <th>rating</th>\n",
       "    </tr>\n",
       "  </thead>\n",
       "  <tbody>\n",
       "    <tr>\n",
       "      <th>0</th>\n",
       "      <td>11231</td>\n",
       "      <td>786</td>\n",
       "      <td>3</td>\n",
       "    </tr>\n",
       "    <tr>\n",
       "      <th>1</th>\n",
       "      <td>13003</td>\n",
       "      <td>312</td>\n",
       "      <td>3</td>\n",
       "    </tr>\n",
       "    <tr>\n",
       "      <th>2</th>\n",
       "      <td>49878</td>\n",
       "      <td>92</td>\n",
       "      <td>4</td>\n",
       "    </tr>\n",
       "    <tr>\n",
       "      <th>3</th>\n",
       "      <td>17415</td>\n",
       "      <td>523</td>\n",
       "      <td>4</td>\n",
       "    </tr>\n",
       "    <tr>\n",
       "      <th>4</th>\n",
       "      <td>39041</td>\n",
       "      <td>3239</td>\n",
       "      <td>4</td>\n",
       "    </tr>\n",
       "  </tbody>\n",
       "</table>\n",
       "</div>"
      ],
      "text/plain": [
       "   user_id  book_id  rating\n",
       "0    11231      786       3\n",
       "1    13003      312       3\n",
       "2    49878       92       4\n",
       "3    17415      523       4\n",
       "4    39041     3239       4"
      ]
     },
     "execution_count": 4,
     "metadata": {},
     "output_type": "execute_result"
    }
   ],
   "source": [
    "ratings_train.head()"
   ]
  },
  {
   "cell_type": "code",
   "execution_count": 5,
   "metadata": {},
   "outputs": [
    {
     "name": "stdout",
     "output_type": "stream",
     "text": [
      "<class 'pandas.core.frame.DataFrame'>\n",
      "RangeIndex: 5080007 entries, 0 to 5080006\n",
      "Data columns (total 3 columns):\n",
      " #   Column   Dtype\n",
      "---  ------   -----\n",
      " 0   user_id  int64\n",
      " 1   book_id  int64\n",
      " 2   rating   int64\n",
      "dtypes: int64(3)\n",
      "memory usage: 116.3 MB\n"
     ]
    }
   ],
   "source": [
    "ratings_train.info()"
   ]
  },
  {
   "cell_type": "code",
   "execution_count": 6,
   "metadata": {},
   "outputs": [
    {
     "name": "stdout",
     "output_type": "stream",
     "text": [
      "Number of users: 53424\n",
      "Number of books: 10000\n"
     ]
    }
   ],
   "source": [
    "print(f\"Number of users: {len(ratings_train['user_id'].unique())}\")\n",
    "print(f\"Number of books: {len(ratings_train['book_id'].unique())}\")"
   ]
  },
  {
   "cell_type": "markdown",
   "metadata": {},
   "source": [
    "#### Create a `surprise` dataset for training data (load from the pandas DataFrame)"
   ]
  },
  {
   "cell_type": "code",
   "execution_count": 7,
   "metadata": {},
   "outputs": [],
   "source": [
    "# Define a Reader object for Surprise to be able to parse the dataframe\n",
    "reader = Reader(rating_scale=(1, 5))\n",
    "\n",
    "# Load a dataset (columns in df must correspond to user id, item id and ratings in this order)\n",
    "data = Dataset.load_from_df(ratings_train, reader)"
   ]
  },
  {
   "cell_type": "code",
   "execution_count": 8,
   "metadata": {},
   "outputs": [
    {
     "data": {
      "text/plain": [
       "<surprise.dataset.DatasetAutoFolds at 0xb50dddcc40>"
      ]
     },
     "execution_count": 8,
     "metadata": {},
     "output_type": "execute_result"
    }
   ],
   "source": [
    "data"
   ]
  },
  {
   "cell_type": "markdown",
   "metadata": {},
   "source": [
    "## 2. Compare different algorithms (using training set)\n",
    "\n",
    "Run 3-fold cross-validation for different algorithms (with default hyperparameters) and compare their performance.\n",
    "\n",
    "Basic algorithms:\n",
    "\n",
    "        2.1 Normal Predictor (Random)\n",
    "        2.2 Baseline Only\n",
    "\n",
    "Matrix Factorization-based algorithms:\n",
    "\n",
    "        2.3 SVD\n",
    "        2.4 SVD++\n",
    "        2.5 NMF\n",
    "\n",
    "    2.6 Slope One\n",
    "    2.7 Co-Clustering\n",
    "\n",
    "k-NN algorithms:\n",
    "\n",
    "        2.8 k-NN Basic (item-based)\n",
    "        2.9 k-NN with Means (item-based)\n",
    "        2.10 k-NN Baseline (item-based)\n",
    "\n",
    "More details about the `surprise` prediction algorithms: https://surprise.readthedocs.io/en/stable/prediction_algorithms_package.html"
   ]
  },
  {
   "cell_type": "markdown",
   "metadata": {},
   "source": [
    "### 2.1 Normal Predictor (Random)\n",
    "\n",
    "Algorithm predicting a random rating based on the distribution of the training set, which is assumed to be normal."
   ]
  },
  {
   "cell_type": "code",
   "execution_count": 9,
   "metadata": {},
   "outputs": [
    {
     "name": "stdout",
     "output_type": "stream",
     "text": [
      "Evaluating RMSE, MAE of algorithm NormalPredictor on 3 split(s).\n",
      "\n",
      "                  Fold 1  Fold 2  Fold 3  Mean    Std     \n",
      "RMSE (testset)    1.3233  1.3241  1.3229  1.3235  0.0005  \n",
      "MAE (testset)     1.0503  1.0511  1.0504  1.0506  0.0004  \n",
      "RMSE (trainset)   1.3231  1.3226  1.3240  1.3232  0.0006  \n",
      "MAE (trainset)    1.0502  1.0499  1.0507  1.0503  0.0003  \n",
      "Fit time          9.33    10.50   8.42    9.42    0.85    \n",
      "Test time         35.85   34.85   25.49   32.06   4.67    \n"
     ]
    }
   ],
   "source": [
    "# Use cross-validation\n",
    "\n",
    "normal_predictor_cv = cross_validate(NormalPredictor(), data, measures=['RMSE', 'MAE'], cv=3, \n",
    "                                     return_train_measures=True, n_jobs=2, verbose=True)"
   ]
  },
  {
   "cell_type": "markdown",
   "metadata": {},
   "source": [
    "### 2.2 Baseline Only\n",
    "\n",
    "Algorithm predicting the baseline estimate for given user and item."
   ]
  },
  {
   "cell_type": "code",
   "execution_count": 10,
   "metadata": {},
   "outputs": [
    {
     "name": "stdout",
     "output_type": "stream",
     "text": [
      "Evaluating RMSE, MAE of algorithm BaselineOnly on 3 split(s).\n",
      "\n",
      "                  Fold 1  Fold 2  Fold 3  Mean    Std     \n",
      "RMSE (testset)    0.8579  0.8590  0.8575  0.8581  0.0007  \n",
      "MAE (testset)     0.6752  0.6761  0.6752  0.6755  0.0004  \n",
      "RMSE (trainset)   0.8453  0.8447  0.8454  0.8451  0.0003  \n",
      "MAE (trainset)    0.6654  0.6648  0.6655  0.6652  0.0003  \n",
      "Fit time          5.18    5.84    4.15    5.06    0.70    \n",
      "Test time         25.75   29.12   16.88   23.92   5.16    \n"
     ]
    }
   ],
   "source": [
    "baseline_only_cv = cross_validate(BaselineOnly(), data, measures=['RMSE', 'MAE'], cv=3, \n",
    "                                  return_train_measures=True, n_jobs=2, verbose=True)"
   ]
  },
  {
   "cell_type": "markdown",
   "metadata": {},
   "source": [
    "### 2.3 SVD\n",
    "\n",
    "The famous SVD algorithm, as popularized by Simon Funk during the Netflix Prize. \n",
    "\n",
    "When baselines are not used, this is equivalent to Probabilistic Matrix Factorization (can be achieved by setting the `biased` parameter to `False`)"
   ]
  },
  {
   "cell_type": "code",
   "execution_count": 11,
   "metadata": {},
   "outputs": [
    {
     "name": "stdout",
     "output_type": "stream",
     "text": [
      "Evaluating RMSE, MAE of algorithm SVD on 3 split(s).\n",
      "\n",
      "                  Fold 1  Fold 2  Fold 3  Mean    Std     \n",
      "RMSE (testset)    0.8498  0.8503  0.8501  0.8501  0.0002  \n",
      "MAE (testset)     0.6594  0.6597  0.6594  0.6595  0.0001  \n",
      "RMSE (trainset)   0.6455  0.6462  0.6456  0.6458  0.0003  \n",
      "MAE (trainset)    0.5027  0.5033  0.5027  0.5029  0.0003  \n",
      "Fit time          427.40  426.17  370.34  407.97  26.61   \n",
      "Test time         33.53   35.09   27.40   32.01   3.32    \n"
     ]
    }
   ],
   "source": [
    "svd_cv = cross_validate(SVD(), data, measures=['RMSE', 'MAE'], cv=3, \n",
    "                        return_train_measures=True, n_jobs=2, verbose=True)"
   ]
  },
  {
   "cell_type": "markdown",
   "metadata": {},
   "source": [
    "### 2.4 SVD++\n",
    "\n",
    "The SVD++ algorithm, an extension of SVD taking into account implicit ratings. Here, an implicit rating describes the fact that a user rated an item, regardless of the rating value."
   ]
  },
  {
   "cell_type": "code",
   "execution_count": 13,
   "metadata": {},
   "outputs": [
    {
     "name": "stdout",
     "output_type": "stream",
     "text": [
      "Evaluating RMSE, MAE of algorithm SVDpp on 3 split(s).\n",
      "\n",
      "                  Fold 1  Fold 2  Fold 3  Mean    Std     \n",
      "RMSE (testset)    0.8324  0.8319  0.8315  0.8319  0.0004  \n",
      "MAE (testset)     0.6421  0.6418  0.6415  0.6418  0.0002  \n",
      "RMSE (trainset)   0.7072  0.7064  0.7074  0.7070  0.0004  \n",
      "MAE (trainset)    0.5475  0.5472  0.5479  0.5476  0.0003  \n",
      "Fit time          7011.98 6995.61 6181.07 6729.55 387.89  \n",
      "Test time         261.71  260.95  192.48  238.38  32.46   \n"
     ]
    }
   ],
   "source": [
    "svdpp_cv = cross_validate(SVDpp(), data, measures=['RMSE', 'MAE'], cv=3, \n",
    "                          return_train_measures=True, n_jobs=2, verbose=True)"
   ]
  },
  {
   "cell_type": "code",
   "execution_count": 14,
   "metadata": {},
   "outputs": [
    {
     "data": {
      "text/plain": [
       "{'test_rmse': array([0.83241515, 0.83185636, 0.83153911]),\n",
       " 'train_rmse': array([0.70717522, 0.70644077, 0.7073714 ]),\n",
       " 'test_mae': array([0.64210933, 0.64175439, 0.64151114]),\n",
       " 'train_mae': array([0.54754537, 0.54723361, 0.54793872]),\n",
       " 'fit_time': (7011.979629516602, 6995.607023000717, 6181.073933362961),\n",
       " 'test_time': (261.7084906101227, 260.95095443725586, 192.48142838478088)}"
      ]
     },
     "execution_count": 14,
     "metadata": {},
     "output_type": "execute_result"
    }
   ],
   "source": [
    "svdpp_cv"
   ]
  },
  {
   "cell_type": "markdown",
   "metadata": {},
   "source": [
    "### 2.5 NMF\n",
    "\n",
    "A collaborative filtering algorithm based on Non-negative Matrix Factorization. This algorithm is very similar to SVD. \n",
    "\n",
    "User and item factors are kept positive."
   ]
  },
  {
   "cell_type": "code",
   "execution_count": 16,
   "metadata": {},
   "outputs": [
    {
     "name": "stdout",
     "output_type": "stream",
     "text": [
      "Evaluating RMSE, MAE of algorithm NMF on 3 split(s).\n",
      "\n",
      "                  Fold 1  Fold 2  Fold 3  Mean    Std     \n",
      "RMSE (testset)    0.8709  0.8710  0.8711  0.8710  0.0001  \n",
      "MAE (testset)     0.6826  0.6828  0.6831  0.6828  0.0002  \n",
      "RMSE (trainset)   0.7890  0.7900  0.7889  0.7893  0.0005  \n",
      "MAE (trainset)    0.6180  0.6189  0.6180  0.6183  0.0004  \n",
      "Fit time          434.69  438.56  386.60  419.95  23.64   \n",
      "Test time         26.21   26.59   26.57   26.46   0.18    \n"
     ]
    }
   ],
   "source": [
    "nmf_cv = cross_validate(NMF(), data, measures=['RMSE', 'MAE'], cv=3, \n",
    "                        return_train_measures=True, n_jobs=2, verbose=True)"
   ]
  },
  {
   "cell_type": "markdown",
   "metadata": {},
   "source": [
    "### 2.6 Slope One\n",
    "\n",
    "A simple yet accurate collaborative filtering algorithm."
   ]
  },
  {
   "cell_type": "code",
   "execution_count": 19,
   "metadata": {},
   "outputs": [
    {
     "name": "stdout",
     "output_type": "stream",
     "text": [
      "Evaluating RMSE, MAE of algorithm SlopeOne on 3 split(s).\n",
      "\n",
      "                  Fold 1  Fold 2  Fold 3  Mean    Std     \n",
      "RMSE (testset)    0.8511  0.8499  0.8503  0.8504  0.0005  \n",
      "MAE (testset)     0.6623  0.6614  0.6618  0.6618  0.0003  \n",
      "RMSE (trainset)   0.7105  0.7107  0.7108  0.7106  0.0001  \n",
      "MAE (trainset)    0.5424  0.5427  0.5427  0.5426  0.0002  \n",
      "Fit time          52.31   51.22   34.82   46.12   8.00    \n",
      "Test time         188.75  187.09  147.42  174.42  19.10   \n"
     ]
    }
   ],
   "source": [
    "slope_one_cv = cross_validate(SlopeOne(), data, measures=['RMSE', 'MAE'], cv=3, \n",
    "                              return_train_measures=True, n_jobs=2, verbose=True)"
   ]
  },
  {
   "cell_type": "markdown",
   "metadata": {},
   "source": [
    "### 2.7 Co-clustering\n",
    "\n",
    "A collaborative filtering algorithm based on co-clustering."
   ]
  },
  {
   "cell_type": "code",
   "execution_count": 22,
   "metadata": {},
   "outputs": [
    {
     "name": "stdout",
     "output_type": "stream",
     "text": [
      "Evaluating RMSE, MAE of algorithm CoClustering on 3 split(s).\n",
      "\n",
      "                  Fold 1  Fold 2  Fold 3  Mean    Std     \n",
      "RMSE (testset)    0.8684  0.8695  0.8672  0.8684  0.0009  \n",
      "MAE (testset)     0.6746  0.6750  0.6734  0.6743  0.0007  \n",
      "RMSE (trainset)   0.8372  0.8368  0.8368  0.8369  0.0002  \n",
      "MAE (trainset)    0.6496  0.6493  0.6491  0.6493  0.0002  \n",
      "Fit time          129.92  129.31  112.53  123.92  8.05    \n",
      "Test time         25.41   26.02   20.98   24.14   2.24    \n"
     ]
    }
   ],
   "source": [
    "co_clustering_cv = cross_validate(CoClustering(), data, measures=['RMSE', 'MAE'], cv=3, \n",
    "                                  return_train_measures=True, n_jobs=2, verbose=True)"
   ]
  },
  {
   "cell_type": "markdown",
   "metadata": {},
   "source": [
    "### 2.8 k-NN Basic\n",
    "\n",
    "A basic collaborative filtering algorithm.\n",
    "\n",
    "**Default: user-based filtering.**\n",
    "\n",
    "Tried to run:\n",
    "```\n",
    "knn_basic_cv = cross_validate(KNNBasic(), data, measures=['RMSE', 'MAE'], cv=3, \n",
    "                              return_train_measures=True, n_jobs=2, verbose=True)\n",
    "```\n",
    "\n",
    "I got a memory error on my PC (there is a high number of users in the dataset):\n",
    "\n",
    "\"MemoryError: Unable to allocate 21.3 GiB for an array with shape (53424, 53424) and data type float64\""
   ]
  },
  {
   "cell_type": "markdown",
   "metadata": {},
   "source": [
    "#### Try KNN Basic with item-based filtering (similarities between items are computed):"
   ]
  },
  {
   "cell_type": "code",
   "execution_count": 32,
   "metadata": {},
   "outputs": [
    {
     "name": "stdout",
     "output_type": "stream",
     "text": [
      "Evaluating RMSE, MAE of algorithm KNNBasic on 3 split(s).\n",
      "\n",
      "                  Fold 1  Fold 2  Fold 3  Mean    Std     \n",
      "RMSE (testset)    0.8762  0.8743  0.8741  0.8749  0.0010  \n",
      "MAE (testset)     0.6807  0.6793  0.6790  0.6796  0.0008  \n",
      "RMSE (trainset)   0.6995  0.7002  0.7000  0.6999  0.0003  \n",
      "MAE (trainset)    0.5292  0.5294  0.5293  0.5293  0.0001  \n",
      "Fit time          49.29   46.20   27.77   41.09   9.50    \n",
      "Test time         341.79  338.36  302.52  327.56  17.76   \n"
     ]
    }
   ],
   "source": [
    "sim_options = {'user_based': False}  # compute similarities between items\n",
    "knn_basic = KNNBasic(sim_options=sim_options)\n",
    "\n",
    "knn_basic_items_cv = cross_validate(knn_basic, data, measures=['RMSE', 'MAE'], cv=3, \n",
    "                                    return_train_measures=True, n_jobs=2, verbose=True)"
   ]
  },
  {
   "cell_type": "markdown",
   "metadata": {},
   "source": [
    "### 2.9 k-NN with Means (Centered k-NN): item-based\n",
    "\n",
    "A basic collaborative filtering algorithm, taking into account the mean ratings."
   ]
  },
  {
   "cell_type": "code",
   "execution_count": 34,
   "metadata": {},
   "outputs": [
    {
     "name": "stdout",
     "output_type": "stream",
     "text": [
      "Evaluating RMSE, MAE of algorithm KNNWithMeans on 3 split(s).\n",
      "\n",
      "                  Fold 1  Fold 2  Fold 3  Mean    Std     \n",
      "RMSE (testset)    0.8508  0.8505  0.8501  0.8505  0.0003  \n",
      "MAE (testset)     0.6604  0.6605  0.6600  0.6603  0.0002  \n",
      "RMSE (trainset)   0.6895  0.6895  0.6898  0.6896  0.0001  \n",
      "MAE (trainset)    0.5248  0.5246  0.5248  0.5247  0.0001  \n",
      "Fit time          51.11   50.40   32.23   44.58   8.74    \n",
      "Test time         379.23  381.04  333.01  364.43  22.23   \n"
     ]
    }
   ],
   "source": [
    "sim_options = {'user_based': False}  # compute  similarities between items\n",
    "knn_with_means_items = KNNWithMeans(sim_options=sim_options)\n",
    "\n",
    "knn_with_means_items_cv = cross_validate(knn_with_means_items, data, measures=['RMSE', 'MAE'], cv=3, \n",
    "                                         return_train_measures=True, n_jobs=2, verbose=True)"
   ]
  },
  {
   "cell_type": "markdown",
   "metadata": {},
   "source": [
    "### Save the results (9 algorithms)\n",
    "\n",
    "Create a DataFrame with the average RMSE and MAE of various algorithms on a 3-fold cross-validation procedure. "
   ]
  },
  {
   "cell_type": "code",
   "execution_count": 36,
   "metadata": {},
   "outputs": [
    {
     "data": {
      "text/html": [
       "<div>\n",
       "<style scoped>\n",
       "    .dataframe tbody tr th:only-of-type {\n",
       "        vertical-align: middle;\n",
       "    }\n",
       "\n",
       "    .dataframe tbody tr th {\n",
       "        vertical-align: top;\n",
       "    }\n",
       "\n",
       "    .dataframe thead th {\n",
       "        text-align: right;\n",
       "    }\n",
       "</style>\n",
       "<table border=\"1\" class=\"dataframe\">\n",
       "  <thead>\n",
       "    <tr style=\"text-align: right;\">\n",
       "      <th></th>\n",
       "      <th>algorithm</th>\n",
       "      <th>avg_val_rmse</th>\n",
       "      <th>avg_val_mae</th>\n",
       "      <th>avg_train_rmse</th>\n",
       "      <th>avg_train_mae</th>\n",
       "    </tr>\n",
       "  </thead>\n",
       "  <tbody>\n",
       "    <tr>\n",
       "      <th>0</th>\n",
       "      <td>Normal Predictor (Random)</td>\n",
       "      <td>1.323466</td>\n",
       "      <td>1.050609</td>\n",
       "      <td>1.323242</td>\n",
       "      <td>1.050296</td>\n",
       "    </tr>\n",
       "    <tr>\n",
       "      <th>1</th>\n",
       "      <td>Baseline Only</td>\n",
       "      <td>0.858144</td>\n",
       "      <td>0.675506</td>\n",
       "      <td>0.845130</td>\n",
       "      <td>0.665202</td>\n",
       "    </tr>\n",
       "    <tr>\n",
       "      <th>2</th>\n",
       "      <td>SVD</td>\n",
       "      <td>0.850060</td>\n",
       "      <td>0.659465</td>\n",
       "      <td>0.645765</td>\n",
       "      <td>0.502873</td>\n",
       "    </tr>\n",
       "    <tr>\n",
       "      <th>3</th>\n",
       "      <td>SVD++</td>\n",
       "      <td>0.831937</td>\n",
       "      <td>0.641792</td>\n",
       "      <td>0.706996</td>\n",
       "      <td>0.547573</td>\n",
       "    </tr>\n",
       "    <tr>\n",
       "      <th>4</th>\n",
       "      <td>NMF</td>\n",
       "      <td>0.870976</td>\n",
       "      <td>0.682822</td>\n",
       "      <td>0.789268</td>\n",
       "      <td>0.618320</td>\n",
       "    </tr>\n",
       "    <tr>\n",
       "      <th>5</th>\n",
       "      <td>Slope One</td>\n",
       "      <td>0.850398</td>\n",
       "      <td>0.661817</td>\n",
       "      <td>0.710634</td>\n",
       "      <td>0.542606</td>\n",
       "    </tr>\n",
       "    <tr>\n",
       "      <th>6</th>\n",
       "      <td>Co-Clustering</td>\n",
       "      <td>0.868356</td>\n",
       "      <td>0.674346</td>\n",
       "      <td>0.836897</td>\n",
       "      <td>0.649331</td>\n",
       "    </tr>\n",
       "    <tr>\n",
       "      <th>7</th>\n",
       "      <td>k-NN Basic (item-based)</td>\n",
       "      <td>0.874876</td>\n",
       "      <td>0.679643</td>\n",
       "      <td>0.699901</td>\n",
       "      <td>0.529300</td>\n",
       "    </tr>\n",
       "    <tr>\n",
       "      <th>8</th>\n",
       "      <td>k-NN with Means (item-based)</td>\n",
       "      <td>0.850480</td>\n",
       "      <td>0.660333</td>\n",
       "      <td>0.689567</td>\n",
       "      <td>0.524732</td>\n",
       "    </tr>\n",
       "  </tbody>\n",
       "</table>\n",
       "</div>"
      ],
      "text/plain": [
       "                      algorithm  avg_val_rmse  avg_val_mae  avg_train_rmse  \\\n",
       "0     Normal Predictor (Random)      1.323466     1.050609        1.323242   \n",
       "1                 Baseline Only      0.858144     0.675506        0.845130   \n",
       "2                           SVD      0.850060     0.659465        0.645765   \n",
       "3                         SVD++      0.831937     0.641792        0.706996   \n",
       "4                           NMF      0.870976     0.682822        0.789268   \n",
       "5                     Slope One      0.850398     0.661817        0.710634   \n",
       "6                 Co-Clustering      0.868356     0.674346        0.836897   \n",
       "7       k-NN Basic (item-based)      0.874876     0.679643        0.699901   \n",
       "8  k-NN with Means (item-based)      0.850480     0.660333        0.689567   \n",
       "\n",
       "   avg_train_mae  \n",
       "0       1.050296  \n",
       "1       0.665202  \n",
       "2       0.502873  \n",
       "3       0.547573  \n",
       "4       0.618320  \n",
       "5       0.542606  \n",
       "6       0.649331  \n",
       "7       0.529300  \n",
       "8       0.524732  "
      ]
     },
     "execution_count": 36,
     "metadata": {},
     "output_type": "execute_result"
    }
   ],
   "source": [
    "algorithms = ['Normal Predictor (Random)', 'Baseline Only', 'SVD', 'SVD++', 'NMF', \n",
    "              'Slope One', 'Co-Clustering', 'k-NN Basic (item-based)', \n",
    "              'k-NN with Means (item-based)']\n",
    "\n",
    "# A list with results for all algorithms\n",
    "cv_results = [normal_predictor_cv, baseline_only_cv, svd_cv, svdpp_cv, nmf_cv, \n",
    "              slope_one_cv, co_clustering_cv, knn_basic_items_cv, knn_with_means_items_cv]\n",
    "\n",
    "# Average RMSE and MAE (validation and training)\n",
    "avg_val_rmse = [np.mean(result['test_rmse']) for result in cv_results]\n",
    "avg_val_mae = [np.mean(result['test_mae']) for result in cv_results]\n",
    "avg_train_rmse = [np.mean(result['train_rmse']) for result in cv_results]\n",
    "avg_train_mae = [np.mean(result['train_mae']) for result in cv_results]\n",
    "\n",
    "df_cv_results = pd.DataFrame({\n",
    "    'algorithm': algorithms, \n",
    "    'avg_val_rmse': avg_val_rmse, \n",
    "    'avg_val_mae': avg_val_mae, \n",
    "    'avg_train_rmse': avg_train_rmse, \n",
    "    'avg_train_mae': avg_train_mae,\n",
    "})\n",
    "\n",
    "df_cv_results"
   ]
  },
  {
   "cell_type": "markdown",
   "metadata": {},
   "source": [
    "Save as a csv file:"
   ]
  },
  {
   "cell_type": "code",
   "execution_count": 37,
   "metadata": {},
   "outputs": [],
   "source": [
    "df_cv_results.to_csv('../data/collaborative_filtering_cv_results.csv', index=False)"
   ]
  },
  {
   "cell_type": "markdown",
   "metadata": {},
   "source": [
    "**Next day: Tried one more algorithm**"
   ]
  },
  {
   "cell_type": "markdown",
   "metadata": {},
   "source": [
    "### 2.10 k-NN Baseline: item-based\n",
    "\n",
    "A basic collaborative filtering algorithm taking into account a baseline rating."
   ]
  },
  {
   "cell_type": "code",
   "execution_count": 9,
   "metadata": {},
   "outputs": [
    {
     "name": "stdout",
     "output_type": "stream",
     "text": [
      "Evaluating RMSE, MAE of algorithm KNNBaseline on 3 split(s).\n",
      "\n",
      "                  Fold 1  Fold 2  Fold 3  Mean    Std     \n",
      "RMSE (testset)    0.8468  0.8470  0.8470  0.8469  0.0001  \n",
      "MAE (testset)     0.6569  0.6568  0.6567  0.6568  0.0001  \n",
      "RMSE (trainset)   0.6855  0.6851  0.6852  0.6853  0.0002  \n",
      "MAE (trainset)    0.5201  0.5201  0.5201  0.5201  0.0000  \n",
      "Fit time          53.16   46.34   30.24   43.25   9.61    \n",
      "Test time         495.24  489.99  396.11  460.45  45.54   \n"
     ]
    }
   ],
   "source": [
    "sim_options = {'user_based': False}  # compute  similarities between items\n",
    "knn_baseline_items = KNNBaseline(sim_options=sim_options)\n",
    "\n",
    "knn_baseline_items_cv = cross_validate(knn_baseline_items, data, measures=['RMSE', 'MAE'], cv=3, \n",
    "                                       return_train_measures=True, n_jobs=2, verbose=True)"
   ]
  },
  {
   "cell_type": "markdown",
   "metadata": {},
   "source": [
    "Add these results to the csv file created earlier:"
   ]
  },
  {
   "cell_type": "code",
   "execution_count": 10,
   "metadata": {},
   "outputs": [
    {
     "data": {
      "text/plain": [
       "'0.846910013146017,0.6567634132649346,0.6852818338263172,0.5200787250638058'"
      ]
     },
     "execution_count": 10,
     "metadata": {},
     "output_type": "execute_result"
    }
   ],
   "source": [
    "knn_baseline_cv_result = [\n",
    "    np.mean(knn_baseline_items_cv['test_rmse']), \n",
    "    np.mean(knn_baseline_items_cv['test_mae']), \n",
    "    np.mean(knn_baseline_items_cv['train_rmse']), \n",
    "    np.mean(knn_baseline_items_cv['train_mae'])\n",
    "]\n",
    "\n",
    "knn_baseline_cv_result_string = ','.join([str(i) for i in knn_baseline_cv_result])\n",
    "knn_baseline_cv_result_string"
   ]
  },
  {
   "cell_type": "code",
   "execution_count": 13,
   "metadata": {},
   "outputs": [],
   "source": [
    "with open('../data/collaborative_filtering_cv_results.csv', 'a') as f:\n",
    "    f.write(f'k-NN Baseline (item-based),{knn_baseline_cv_result_string}\\n')"
   ]
  },
  {
   "cell_type": "markdown",
   "metadata": {},
   "source": [
    "### Compare all cross-validation results (10 algorithms):"
   ]
  },
  {
   "cell_type": "code",
   "execution_count": 14,
   "metadata": {},
   "outputs": [
    {
     "data": {
      "text/html": [
       "<div>\n",
       "<style scoped>\n",
       "    .dataframe tbody tr th:only-of-type {\n",
       "        vertical-align: middle;\n",
       "    }\n",
       "\n",
       "    .dataframe tbody tr th {\n",
       "        vertical-align: top;\n",
       "    }\n",
       "\n",
       "    .dataframe thead th {\n",
       "        text-align: right;\n",
       "    }\n",
       "</style>\n",
       "<table border=\"1\" class=\"dataframe\">\n",
       "  <thead>\n",
       "    <tr style=\"text-align: right;\">\n",
       "      <th></th>\n",
       "      <th>algorithm</th>\n",
       "      <th>avg_val_rmse</th>\n",
       "      <th>avg_val_mae</th>\n",
       "      <th>avg_train_rmse</th>\n",
       "      <th>avg_train_mae</th>\n",
       "    </tr>\n",
       "  </thead>\n",
       "  <tbody>\n",
       "    <tr>\n",
       "      <th>0</th>\n",
       "      <td>Normal Predictor (Random)</td>\n",
       "      <td>1.323466</td>\n",
       "      <td>1.050609</td>\n",
       "      <td>1.323242</td>\n",
       "      <td>1.050296</td>\n",
       "    </tr>\n",
       "    <tr>\n",
       "      <th>1</th>\n",
       "      <td>Baseline Only</td>\n",
       "      <td>0.858144</td>\n",
       "      <td>0.675506</td>\n",
       "      <td>0.845130</td>\n",
       "      <td>0.665202</td>\n",
       "    </tr>\n",
       "    <tr>\n",
       "      <th>2</th>\n",
       "      <td>SVD</td>\n",
       "      <td>0.850060</td>\n",
       "      <td>0.659465</td>\n",
       "      <td>0.645765</td>\n",
       "      <td>0.502873</td>\n",
       "    </tr>\n",
       "    <tr>\n",
       "      <th>3</th>\n",
       "      <td>SVD++</td>\n",
       "      <td>0.831937</td>\n",
       "      <td>0.641792</td>\n",
       "      <td>0.706996</td>\n",
       "      <td>0.547573</td>\n",
       "    </tr>\n",
       "    <tr>\n",
       "      <th>4</th>\n",
       "      <td>NMF</td>\n",
       "      <td>0.870976</td>\n",
       "      <td>0.682822</td>\n",
       "      <td>0.789268</td>\n",
       "      <td>0.618320</td>\n",
       "    </tr>\n",
       "    <tr>\n",
       "      <th>5</th>\n",
       "      <td>Slope One</td>\n",
       "      <td>0.850398</td>\n",
       "      <td>0.661817</td>\n",
       "      <td>0.710634</td>\n",
       "      <td>0.542606</td>\n",
       "    </tr>\n",
       "    <tr>\n",
       "      <th>6</th>\n",
       "      <td>Co-Clustering</td>\n",
       "      <td>0.868356</td>\n",
       "      <td>0.674346</td>\n",
       "      <td>0.836897</td>\n",
       "      <td>0.649331</td>\n",
       "    </tr>\n",
       "    <tr>\n",
       "      <th>7</th>\n",
       "      <td>k-NN Basic (item-based)</td>\n",
       "      <td>0.874876</td>\n",
       "      <td>0.679643</td>\n",
       "      <td>0.699901</td>\n",
       "      <td>0.529300</td>\n",
       "    </tr>\n",
       "    <tr>\n",
       "      <th>8</th>\n",
       "      <td>k-NN with Means (item-based)</td>\n",
       "      <td>0.850480</td>\n",
       "      <td>0.660333</td>\n",
       "      <td>0.689567</td>\n",
       "      <td>0.524732</td>\n",
       "    </tr>\n",
       "    <tr>\n",
       "      <th>9</th>\n",
       "      <td>k-NN Baseline (item-based)</td>\n",
       "      <td>0.846910</td>\n",
       "      <td>0.656763</td>\n",
       "      <td>0.685282</td>\n",
       "      <td>0.520079</td>\n",
       "    </tr>\n",
       "  </tbody>\n",
       "</table>\n",
       "</div>"
      ],
      "text/plain": [
       "                      algorithm  avg_val_rmse  avg_val_mae  avg_train_rmse  \\\n",
       "0     Normal Predictor (Random)      1.323466     1.050609        1.323242   \n",
       "1                 Baseline Only      0.858144     0.675506        0.845130   \n",
       "2                           SVD      0.850060     0.659465        0.645765   \n",
       "3                         SVD++      0.831937     0.641792        0.706996   \n",
       "4                           NMF      0.870976     0.682822        0.789268   \n",
       "5                     Slope One      0.850398     0.661817        0.710634   \n",
       "6                 Co-Clustering      0.868356     0.674346        0.836897   \n",
       "7       k-NN Basic (item-based)      0.874876     0.679643        0.699901   \n",
       "8  k-NN with Means (item-based)      0.850480     0.660333        0.689567   \n",
       "9    k-NN Baseline (item-based)      0.846910     0.656763        0.685282   \n",
       "\n",
       "   avg_train_mae  \n",
       "0       1.050296  \n",
       "1       0.665202  \n",
       "2       0.502873  \n",
       "3       0.547573  \n",
       "4       0.618320  \n",
       "5       0.542606  \n",
       "6       0.649331  \n",
       "7       0.529300  \n",
       "8       0.524732  \n",
       "9       0.520079  "
      ]
     },
     "execution_count": 14,
     "metadata": {},
     "output_type": "execute_result"
    }
   ],
   "source": [
    "df_cv_results_all = pd.read_csv('../data/collaborative_filtering_cv_results.csv')\n",
    "df_cv_results_all"
   ]
  },
  {
   "cell_type": "markdown",
   "metadata": {},
   "source": [
    "### Conclusions:\n",
    "- SVD++ showed the best performance (and took the longest time to run cross-validation out of all algorithms). \n",
    "- For k-NN Baseline (item-based), SVD, Slope One and k-NN with Means (item-based) - also good results. From these algorithms, the Slope One was the fastest."
   ]
  },
  {
   "cell_type": "markdown",
   "metadata": {},
   "source": [
    "## 3. Tune the SVD++ hyperparameters with GridSearchCV"
   ]
  },
  {
   "cell_type": "markdown",
   "metadata": {},
   "source": [
    "#### Grid Search 1:"
   ]
  },
  {
   "cell_type": "code",
   "execution_count": 15,
   "metadata": {},
   "outputs": [],
   "source": [
    "param_grid_1 = {'n_epochs': [10], \n",
    "                'n_factors': [20, 30], \n",
    "                'lr_all': [0.005, 0.01], \n",
    "                'reg_all': [0.08, 0.2]}\n",
    "\n",
    "gs_svdpp_1 = GridSearchCV(SVDpp, param_grid_1, measures=['rmse', 'mae'], cv=2, n_jobs=2)\n",
    "\n",
    "gs_svdpp_1.fit(data)"
   ]
  },
  {
   "cell_type": "code",
   "execution_count": 17,
   "metadata": {},
   "outputs": [
    {
     "name": "stdout",
     "output_type": "stream",
     "text": [
      "0.8565178594908749\n"
     ]
    }
   ],
   "source": [
    "# best RMSE score\n",
    "print(gs_svdpp_1.best_score['rmse'])"
   ]
  },
  {
   "cell_type": "code",
   "execution_count": 18,
   "metadata": {},
   "outputs": [
    {
     "name": "stdout",
     "output_type": "stream",
     "text": [
      "0.6706129575111912\n"
     ]
    }
   ],
   "source": [
    "# best MAE score\n",
    "print(gs_svdpp_1.best_score['mae'])"
   ]
  },
  {
   "cell_type": "code",
   "execution_count": 19,
   "metadata": {},
   "outputs": [
    {
     "name": "stdout",
     "output_type": "stream",
     "text": [
      "{'n_epochs': 10, 'n_factors': 30, 'lr_all': 0.01, 'reg_all': 0.08}\n"
     ]
    }
   ],
   "source": [
    "# combination of parameters that gave the best RMSE score\n",
    "print(gs_svdpp_1.best_params['rmse'])"
   ]
  },
  {
   "cell_type": "code",
   "execution_count": 20,
   "metadata": {},
   "outputs": [
    {
     "name": "stdout",
     "output_type": "stream",
     "text": [
      "{'n_epochs': 10, 'n_factors': 30, 'lr_all': 0.01, 'reg_all': 0.08}\n"
     ]
    }
   ],
   "source": [
    "# combination of parameters that gave the best MAE score\n",
    "print(gs_svdpp_1.best_params['mae'])"
   ]
  },
  {
   "cell_type": "code",
   "execution_count": 21,
   "metadata": {},
   "outputs": [
    {
     "data": {
      "text/html": [
       "<div>\n",
       "<style scoped>\n",
       "    .dataframe tbody tr th:only-of-type {\n",
       "        vertical-align: middle;\n",
       "    }\n",
       "\n",
       "    .dataframe tbody tr th {\n",
       "        vertical-align: top;\n",
       "    }\n",
       "\n",
       "    .dataframe thead th {\n",
       "        text-align: right;\n",
       "    }\n",
       "</style>\n",
       "<table border=\"1\" class=\"dataframe\">\n",
       "  <thead>\n",
       "    <tr style=\"text-align: right;\">\n",
       "      <th></th>\n",
       "      <th>split0_test_rmse</th>\n",
       "      <th>split1_test_rmse</th>\n",
       "      <th>mean_test_rmse</th>\n",
       "      <th>std_test_rmse</th>\n",
       "      <th>rank_test_rmse</th>\n",
       "      <th>split0_test_mae</th>\n",
       "      <th>split1_test_mae</th>\n",
       "      <th>mean_test_mae</th>\n",
       "      <th>std_test_mae</th>\n",
       "      <th>rank_test_mae</th>\n",
       "      <th>mean_fit_time</th>\n",
       "      <th>std_fit_time</th>\n",
       "      <th>mean_test_time</th>\n",
       "      <th>std_test_time</th>\n",
       "      <th>params</th>\n",
       "      <th>param_n_epochs</th>\n",
       "      <th>param_n_factors</th>\n",
       "      <th>param_lr_all</th>\n",
       "      <th>param_reg_all</th>\n",
       "    </tr>\n",
       "  </thead>\n",
       "  <tbody>\n",
       "    <tr>\n",
       "      <th>0</th>\n",
       "      <td>0.860043</td>\n",
       "      <td>0.860983</td>\n",
       "      <td>0.860513</td>\n",
       "      <td>0.000470</td>\n",
       "      <td>3</td>\n",
       "      <td>0.676145</td>\n",
       "      <td>0.676607</td>\n",
       "      <td>0.676376</td>\n",
       "      <td>0.000231</td>\n",
       "      <td>3</td>\n",
       "      <td>2067.264136</td>\n",
       "      <td>5.612980</td>\n",
       "      <td>302.820371</td>\n",
       "      <td>0.555896</td>\n",
       "      <td>{'n_epochs': 10, 'n_factors': 20, 'lr_all': 0....</td>\n",
       "      <td>10</td>\n",
       "      <td>20</td>\n",
       "      <td>0.005</td>\n",
       "      <td>0.08</td>\n",
       "    </tr>\n",
       "    <tr>\n",
       "      <th>1</th>\n",
       "      <td>0.863106</td>\n",
       "      <td>0.864024</td>\n",
       "      <td>0.863565</td>\n",
       "      <td>0.000459</td>\n",
       "      <td>7</td>\n",
       "      <td>0.681323</td>\n",
       "      <td>0.681747</td>\n",
       "      <td>0.681535</td>\n",
       "      <td>0.000212</td>\n",
       "      <td>7</td>\n",
       "      <td>2296.753699</td>\n",
       "      <td>4.383607</td>\n",
       "      <td>303.318483</td>\n",
       "      <td>1.544593</td>\n",
       "      <td>{'n_epochs': 10, 'n_factors': 20, 'lr_all': 0....</td>\n",
       "      <td>10</td>\n",
       "      <td>20</td>\n",
       "      <td>0.005</td>\n",
       "      <td>0.20</td>\n",
       "    </tr>\n",
       "    <tr>\n",
       "      <th>2</th>\n",
       "      <td>0.856635</td>\n",
       "      <td>0.858638</td>\n",
       "      <td>0.857636</td>\n",
       "      <td>0.001002</td>\n",
       "      <td>2</td>\n",
       "      <td>0.670860</td>\n",
       "      <td>0.672016</td>\n",
       "      <td>0.671438</td>\n",
       "      <td>0.000578</td>\n",
       "      <td>2</td>\n",
       "      <td>2077.593564</td>\n",
       "      <td>3.181680</td>\n",
       "      <td>287.236995</td>\n",
       "      <td>0.557971</td>\n",
       "      <td>{'n_epochs': 10, 'n_factors': 20, 'lr_all': 0....</td>\n",
       "      <td>10</td>\n",
       "      <td>20</td>\n",
       "      <td>0.010</td>\n",
       "      <td>0.08</td>\n",
       "    </tr>\n",
       "    <tr>\n",
       "      <th>3</th>\n",
       "      <td>0.861989</td>\n",
       "      <td>0.863061</td>\n",
       "      <td>0.862525</td>\n",
       "      <td>0.000536</td>\n",
       "      <td>6</td>\n",
       "      <td>0.678586</td>\n",
       "      <td>0.679045</td>\n",
       "      <td>0.678816</td>\n",
       "      <td>0.000230</td>\n",
       "      <td>5</td>\n",
       "      <td>1932.945023</td>\n",
       "      <td>0.999708</td>\n",
       "      <td>252.426914</td>\n",
       "      <td>1.689198</td>\n",
       "      <td>{'n_epochs': 10, 'n_factors': 20, 'lr_all': 0....</td>\n",
       "      <td>10</td>\n",
       "      <td>20</td>\n",
       "      <td>0.010</td>\n",
       "      <td>0.20</td>\n",
       "    </tr>\n",
       "    <tr>\n",
       "      <th>4</th>\n",
       "      <td>0.860071</td>\n",
       "      <td>0.861014</td>\n",
       "      <td>0.860542</td>\n",
       "      <td>0.000471</td>\n",
       "      <td>4</td>\n",
       "      <td>0.676220</td>\n",
       "      <td>0.676680</td>\n",
       "      <td>0.676450</td>\n",
       "      <td>0.000230</td>\n",
       "      <td>4</td>\n",
       "      <td>3098.634207</td>\n",
       "      <td>10.937253</td>\n",
       "      <td>308.524674</td>\n",
       "      <td>0.806571</td>\n",
       "      <td>{'n_epochs': 10, 'n_factors': 30, 'lr_all': 0....</td>\n",
       "      <td>10</td>\n",
       "      <td>30</td>\n",
       "      <td>0.005</td>\n",
       "      <td>0.08</td>\n",
       "    </tr>\n",
       "    <tr>\n",
       "      <th>5</th>\n",
       "      <td>0.863129</td>\n",
       "      <td>0.864054</td>\n",
       "      <td>0.863591</td>\n",
       "      <td>0.000463</td>\n",
       "      <td>8</td>\n",
       "      <td>0.681349</td>\n",
       "      <td>0.681789</td>\n",
       "      <td>0.681569</td>\n",
       "      <td>0.000220</td>\n",
       "      <td>8</td>\n",
       "      <td>2339.477973</td>\n",
       "      <td>0.043872</td>\n",
       "      <td>245.553543</td>\n",
       "      <td>0.566900</td>\n",
       "      <td>{'n_epochs': 10, 'n_factors': 30, 'lr_all': 0....</td>\n",
       "      <td>10</td>\n",
       "      <td>30</td>\n",
       "      <td>0.005</td>\n",
       "      <td>0.20</td>\n",
       "    </tr>\n",
       "    <tr>\n",
       "      <th>6</th>\n",
       "      <td>0.856318</td>\n",
       "      <td>0.856718</td>\n",
       "      <td>0.856518</td>\n",
       "      <td>0.000200</td>\n",
       "      <td>1</td>\n",
       "      <td>0.670636</td>\n",
       "      <td>0.670590</td>\n",
       "      <td>0.670613</td>\n",
       "      <td>0.000023</td>\n",
       "      <td>1</td>\n",
       "      <td>2769.687194</td>\n",
       "      <td>11.633746</td>\n",
       "      <td>322.447543</td>\n",
       "      <td>3.359383</td>\n",
       "      <td>{'n_epochs': 10, 'n_factors': 30, 'lr_all': 0....</td>\n",
       "      <td>10</td>\n",
       "      <td>30</td>\n",
       "      <td>0.010</td>\n",
       "      <td>0.08</td>\n",
       "    </tr>\n",
       "    <tr>\n",
       "      <th>7</th>\n",
       "      <td>0.861987</td>\n",
       "      <td>0.863052</td>\n",
       "      <td>0.862520</td>\n",
       "      <td>0.000533</td>\n",
       "      <td>5</td>\n",
       "      <td>0.678593</td>\n",
       "      <td>0.679048</td>\n",
       "      <td>0.678820</td>\n",
       "      <td>0.000228</td>\n",
       "      <td>6</td>\n",
       "      <td>2674.785605</td>\n",
       "      <td>6.705252</td>\n",
       "      <td>269.516306</td>\n",
       "      <td>5.160377</td>\n",
       "      <td>{'n_epochs': 10, 'n_factors': 30, 'lr_all': 0....</td>\n",
       "      <td>10</td>\n",
       "      <td>30</td>\n",
       "      <td>0.010</td>\n",
       "      <td>0.20</td>\n",
       "    </tr>\n",
       "  </tbody>\n",
       "</table>\n",
       "</div>"
      ],
      "text/plain": [
       "   split0_test_rmse  split1_test_rmse  mean_test_rmse  std_test_rmse  \\\n",
       "0          0.860043          0.860983        0.860513       0.000470   \n",
       "1          0.863106          0.864024        0.863565       0.000459   \n",
       "2          0.856635          0.858638        0.857636       0.001002   \n",
       "3          0.861989          0.863061        0.862525       0.000536   \n",
       "4          0.860071          0.861014        0.860542       0.000471   \n",
       "5          0.863129          0.864054        0.863591       0.000463   \n",
       "6          0.856318          0.856718        0.856518       0.000200   \n",
       "7          0.861987          0.863052        0.862520       0.000533   \n",
       "\n",
       "   rank_test_rmse  split0_test_mae  split1_test_mae  mean_test_mae  \\\n",
       "0               3         0.676145         0.676607       0.676376   \n",
       "1               7         0.681323         0.681747       0.681535   \n",
       "2               2         0.670860         0.672016       0.671438   \n",
       "3               6         0.678586         0.679045       0.678816   \n",
       "4               4         0.676220         0.676680       0.676450   \n",
       "5               8         0.681349         0.681789       0.681569   \n",
       "6               1         0.670636         0.670590       0.670613   \n",
       "7               5         0.678593         0.679048       0.678820   \n",
       "\n",
       "   std_test_mae  rank_test_mae  mean_fit_time  std_fit_time  mean_test_time  \\\n",
       "0      0.000231              3    2067.264136      5.612980      302.820371   \n",
       "1      0.000212              7    2296.753699      4.383607      303.318483   \n",
       "2      0.000578              2    2077.593564      3.181680      287.236995   \n",
       "3      0.000230              5    1932.945023      0.999708      252.426914   \n",
       "4      0.000230              4    3098.634207     10.937253      308.524674   \n",
       "5      0.000220              8    2339.477973      0.043872      245.553543   \n",
       "6      0.000023              1    2769.687194     11.633746      322.447543   \n",
       "7      0.000228              6    2674.785605      6.705252      269.516306   \n",
       "\n",
       "   std_test_time                                             params  \\\n",
       "0       0.555896  {'n_epochs': 10, 'n_factors': 20, 'lr_all': 0....   \n",
       "1       1.544593  {'n_epochs': 10, 'n_factors': 20, 'lr_all': 0....   \n",
       "2       0.557971  {'n_epochs': 10, 'n_factors': 20, 'lr_all': 0....   \n",
       "3       1.689198  {'n_epochs': 10, 'n_factors': 20, 'lr_all': 0....   \n",
       "4       0.806571  {'n_epochs': 10, 'n_factors': 30, 'lr_all': 0....   \n",
       "5       0.566900  {'n_epochs': 10, 'n_factors': 30, 'lr_all': 0....   \n",
       "6       3.359383  {'n_epochs': 10, 'n_factors': 30, 'lr_all': 0....   \n",
       "7       5.160377  {'n_epochs': 10, 'n_factors': 30, 'lr_all': 0....   \n",
       "\n",
       "   param_n_epochs  param_n_factors  param_lr_all  param_reg_all  \n",
       "0              10               20         0.005           0.08  \n",
       "1              10               20         0.005           0.20  \n",
       "2              10               20         0.010           0.08  \n",
       "3              10               20         0.010           0.20  \n",
       "4              10               30         0.005           0.08  \n",
       "5              10               30         0.005           0.20  \n",
       "6              10               30         0.010           0.08  \n",
       "7              10               30         0.010           0.20  "
      ]
     },
     "execution_count": 21,
     "metadata": {},
     "output_type": "execute_result"
    }
   ],
   "source": [
    "gs_results_1 = pd.DataFrame.from_dict(gs_svdpp_1.cv_results)\n",
    "gs_results_1"
   ]
  },
  {
   "cell_type": "markdown",
   "metadata": {},
   "source": [
    "Choose lr_all = 0.01.\n",
    "\n",
    "30 Factors is quite high number and it would be difficult to interpret so many factors. I will check smaller numbers later.\n",
    "\n",
    "Next step: to tune reg_all."
   ]
  },
  {
   "cell_type": "markdown",
   "metadata": {},
   "source": [
    "#### Grid Search 2:"
   ]
  },
  {
   "cell_type": "code",
   "execution_count": 22,
   "metadata": {},
   "outputs": [],
   "source": [
    "param_grid_2 = {'n_epochs': [10], \n",
    "                'n_factors': [20], \n",
    "                'lr_all': [0.01], \n",
    "                'reg_all': [0.02, 0.04]}\n",
    "\n",
    "gs_svdpp_2 = GridSearchCV(SVDpp, param_grid_2, measures=['rmse', 'mae'], cv=2, n_jobs=2)\n",
    "\n",
    "gs_svdpp_2.fit(data)"
   ]
  },
  {
   "cell_type": "code",
   "execution_count": 23,
   "metadata": {},
   "outputs": [
    {
     "name": "stdout",
     "output_type": "stream",
     "text": [
      "0.6535525469937704\n"
     ]
    }
   ],
   "source": [
    "# best MAE score\n",
    "print(gs_svdpp_2.best_score['mae'])"
   ]
  },
  {
   "cell_type": "code",
   "execution_count": 24,
   "metadata": {},
   "outputs": [
    {
     "name": "stdout",
     "output_type": "stream",
     "text": [
      "{'n_epochs': 10, 'n_factors': 20, 'lr_all': 0.01, 'reg_all': 0.02}\n"
     ]
    }
   ],
   "source": [
    "# combination of parameters that gave the best MAE score\n",
    "print(gs_svdpp_2.best_params['mae'])"
   ]
  },
  {
   "cell_type": "code",
   "execution_count": 25,
   "metadata": {},
   "outputs": [
    {
     "data": {
      "text/html": [
       "<div>\n",
       "<style scoped>\n",
       "    .dataframe tbody tr th:only-of-type {\n",
       "        vertical-align: middle;\n",
       "    }\n",
       "\n",
       "    .dataframe tbody tr th {\n",
       "        vertical-align: top;\n",
       "    }\n",
       "\n",
       "    .dataframe thead th {\n",
       "        text-align: right;\n",
       "    }\n",
       "</style>\n",
       "<table border=\"1\" class=\"dataframe\">\n",
       "  <thead>\n",
       "    <tr style=\"text-align: right;\">\n",
       "      <th></th>\n",
       "      <th>split0_test_rmse</th>\n",
       "      <th>split1_test_rmse</th>\n",
       "      <th>mean_test_rmse</th>\n",
       "      <th>std_test_rmse</th>\n",
       "      <th>rank_test_rmse</th>\n",
       "      <th>split0_test_mae</th>\n",
       "      <th>split1_test_mae</th>\n",
       "      <th>mean_test_mae</th>\n",
       "      <th>std_test_mae</th>\n",
       "      <th>rank_test_mae</th>\n",
       "      <th>mean_fit_time</th>\n",
       "      <th>std_fit_time</th>\n",
       "      <th>mean_test_time</th>\n",
       "      <th>std_test_time</th>\n",
       "      <th>params</th>\n",
       "      <th>param_n_epochs</th>\n",
       "      <th>param_n_factors</th>\n",
       "      <th>param_lr_all</th>\n",
       "      <th>param_reg_all</th>\n",
       "    </tr>\n",
       "  </thead>\n",
       "  <tbody>\n",
       "    <tr>\n",
       "      <th>0</th>\n",
       "      <td>0.84083</td>\n",
       "      <td>0.840871</td>\n",
       "      <td>0.840851</td>\n",
       "      <td>0.000020</td>\n",
       "      <td>1</td>\n",
       "      <td>0.653148</td>\n",
       "      <td>0.653957</td>\n",
       "      <td>0.653553</td>\n",
       "      <td>0.000404</td>\n",
       "      <td>1</td>\n",
       "      <td>2126.315833</td>\n",
       "      <td>14.653890</td>\n",
       "      <td>286.613644</td>\n",
       "      <td>2.514282</td>\n",
       "      <td>{'n_epochs': 10, 'n_factors': 20, 'lr_all': 0....</td>\n",
       "      <td>10</td>\n",
       "      <td>20</td>\n",
       "      <td>0.01</td>\n",
       "      <td>0.02</td>\n",
       "    </tr>\n",
       "    <tr>\n",
       "      <th>1</th>\n",
       "      <td>0.84566</td>\n",
       "      <td>0.845670</td>\n",
       "      <td>0.845665</td>\n",
       "      <td>0.000005</td>\n",
       "      <td>2</td>\n",
       "      <td>0.659548</td>\n",
       "      <td>0.660152</td>\n",
       "      <td>0.659850</td>\n",
       "      <td>0.000302</td>\n",
       "      <td>2</td>\n",
       "      <td>2230.852666</td>\n",
       "      <td>7.216616</td>\n",
       "      <td>288.027153</td>\n",
       "      <td>1.789262</td>\n",
       "      <td>{'n_epochs': 10, 'n_factors': 20, 'lr_all': 0....</td>\n",
       "      <td>10</td>\n",
       "      <td>20</td>\n",
       "      <td>0.01</td>\n",
       "      <td>0.04</td>\n",
       "    </tr>\n",
       "  </tbody>\n",
       "</table>\n",
       "</div>"
      ],
      "text/plain": [
       "   split0_test_rmse  split1_test_rmse  mean_test_rmse  std_test_rmse  \\\n",
       "0           0.84083          0.840871        0.840851       0.000020   \n",
       "1           0.84566          0.845670        0.845665       0.000005   \n",
       "\n",
       "   rank_test_rmse  split0_test_mae  split1_test_mae  mean_test_mae  \\\n",
       "0               1         0.653148         0.653957       0.653553   \n",
       "1               2         0.659548         0.660152       0.659850   \n",
       "\n",
       "   std_test_mae  rank_test_mae  mean_fit_time  std_fit_time  mean_test_time  \\\n",
       "0      0.000404              1    2126.315833     14.653890      286.613644   \n",
       "1      0.000302              2    2230.852666      7.216616      288.027153   \n",
       "\n",
       "   std_test_time                                             params  \\\n",
       "0       2.514282  {'n_epochs': 10, 'n_factors': 20, 'lr_all': 0....   \n",
       "1       1.789262  {'n_epochs': 10, 'n_factors': 20, 'lr_all': 0....   \n",
       "\n",
       "   param_n_epochs  param_n_factors  param_lr_all  param_reg_all  \n",
       "0              10               20          0.01           0.02  \n",
       "1              10               20          0.01           0.04  "
      ]
     },
     "execution_count": 25,
     "metadata": {},
     "output_type": "execute_result"
    }
   ],
   "source": [
    "gs_results_2 = pd.DataFrame.from_dict(gs_svdpp_2.cv_results)\n",
    "gs_results_2"
   ]
  },
  {
   "cell_type": "markdown",
   "metadata": {},
   "source": [
    "Choose reg_all = 0.02"
   ]
  },
  {
   "cell_type": "markdown",
   "metadata": {},
   "source": [
    "#### Grid Search 3 (explore n_factors):"
   ]
  },
  {
   "cell_type": "code",
   "execution_count": 9,
   "metadata": {},
   "outputs": [],
   "source": [
    "param_grid_3 = {'n_epochs': [10], \n",
    "                'n_factors': [4, 8, 12, 16], \n",
    "                'lr_all': [0.01], \n",
    "                'reg_all': [0.02]}\n",
    "\n",
    "gs_svdpp_3 = GridSearchCV(SVDpp, param_grid_3, measures=['rmse', 'mae'], cv=2, n_jobs=2)\n",
    "\n",
    "gs_svdpp_3.fit(data)"
   ]
  },
  {
   "cell_type": "code",
   "execution_count": 12,
   "metadata": {},
   "outputs": [
    {
     "name": "stdout",
     "output_type": "stream",
     "text": [
      "{'n_epochs': 10, 'n_factors': 16, 'lr_all': 0.01, 'reg_all': 0.02}\n"
     ]
    }
   ],
   "source": [
    "# combination of parameters that gave the best MAE score\n",
    "print(gs_svdpp_3.best_params['mae'])"
   ]
  },
  {
   "cell_type": "code",
   "execution_count": 14,
   "metadata": {},
   "outputs": [
    {
     "data": {
      "text/html": [
       "<div>\n",
       "<style scoped>\n",
       "    .dataframe tbody tr th:only-of-type {\n",
       "        vertical-align: middle;\n",
       "    }\n",
       "\n",
       "    .dataframe tbody tr th {\n",
       "        vertical-align: top;\n",
       "    }\n",
       "\n",
       "    .dataframe thead th {\n",
       "        text-align: right;\n",
       "    }\n",
       "</style>\n",
       "<table border=\"1\" class=\"dataframe\">\n",
       "  <thead>\n",
       "    <tr style=\"text-align: right;\">\n",
       "      <th></th>\n",
       "      <th>split0_test_rmse</th>\n",
       "      <th>split1_test_rmse</th>\n",
       "      <th>mean_test_rmse</th>\n",
       "      <th>std_test_rmse</th>\n",
       "      <th>rank_test_rmse</th>\n",
       "      <th>split0_test_mae</th>\n",
       "      <th>split1_test_mae</th>\n",
       "      <th>mean_test_mae</th>\n",
       "      <th>std_test_mae</th>\n",
       "      <th>rank_test_mae</th>\n",
       "      <th>mean_fit_time</th>\n",
       "      <th>std_fit_time</th>\n",
       "      <th>mean_test_time</th>\n",
       "      <th>std_test_time</th>\n",
       "      <th>params</th>\n",
       "      <th>param_n_epochs</th>\n",
       "      <th>param_n_factors</th>\n",
       "      <th>param_lr_all</th>\n",
       "      <th>param_reg_all</th>\n",
       "    </tr>\n",
       "  </thead>\n",
       "  <tbody>\n",
       "    <tr>\n",
       "      <th>0</th>\n",
       "      <td>0.840112</td>\n",
       "      <td>0.841907</td>\n",
       "      <td>0.841009</td>\n",
       "      <td>0.000897</td>\n",
       "      <td>4</td>\n",
       "      <td>0.653773</td>\n",
       "      <td>0.655035</td>\n",
       "      <td>0.654404</td>\n",
       "      <td>0.000631</td>\n",
       "      <td>4</td>\n",
       "      <td>1297.600780</td>\n",
       "      <td>1.818793</td>\n",
       "      <td>299.728889</td>\n",
       "      <td>0.427801</td>\n",
       "      <td>{'n_epochs': 10, 'n_factors': 4, 'lr_all': 0.0...</td>\n",
       "      <td>10</td>\n",
       "      <td>4</td>\n",
       "      <td>0.01</td>\n",
       "      <td>0.02</td>\n",
       "    </tr>\n",
       "    <tr>\n",
       "      <th>1</th>\n",
       "      <td>0.839758</td>\n",
       "      <td>0.840256</td>\n",
       "      <td>0.840007</td>\n",
       "      <td>0.000249</td>\n",
       "      <td>2</td>\n",
       "      <td>0.653335</td>\n",
       "      <td>0.653203</td>\n",
       "      <td>0.653269</td>\n",
       "      <td>0.000066</td>\n",
       "      <td>3</td>\n",
       "      <td>1394.459228</td>\n",
       "      <td>1.441522</td>\n",
       "      <td>262.009202</td>\n",
       "      <td>0.146604</td>\n",
       "      <td>{'n_epochs': 10, 'n_factors': 8, 'lr_all': 0.0...</td>\n",
       "      <td>10</td>\n",
       "      <td>8</td>\n",
       "      <td>0.01</td>\n",
       "      <td>0.02</td>\n",
       "    </tr>\n",
       "    <tr>\n",
       "      <th>2</th>\n",
       "      <td>0.839841</td>\n",
       "      <td>0.840149</td>\n",
       "      <td>0.839995</td>\n",
       "      <td>0.000154</td>\n",
       "      <td>1</td>\n",
       "      <td>0.653376</td>\n",
       "      <td>0.653008</td>\n",
       "      <td>0.653192</td>\n",
       "      <td>0.000184</td>\n",
       "      <td>2</td>\n",
       "      <td>1602.726772</td>\n",
       "      <td>2.839012</td>\n",
       "      <td>302.321278</td>\n",
       "      <td>0.475336</td>\n",
       "      <td>{'n_epochs': 10, 'n_factors': 12, 'lr_all': 0....</td>\n",
       "      <td>10</td>\n",
       "      <td>12</td>\n",
       "      <td>0.01</td>\n",
       "      <td>0.02</td>\n",
       "    </tr>\n",
       "    <tr>\n",
       "      <th>3</th>\n",
       "      <td>0.839817</td>\n",
       "      <td>0.840535</td>\n",
       "      <td>0.840176</td>\n",
       "      <td>0.000359</td>\n",
       "      <td>3</td>\n",
       "      <td>0.653154</td>\n",
       "      <td>0.653173</td>\n",
       "      <td>0.653163</td>\n",
       "      <td>0.000009</td>\n",
       "      <td>1</td>\n",
       "      <td>2254.743243</td>\n",
       "      <td>7.953137</td>\n",
       "      <td>365.390478</td>\n",
       "      <td>0.847100</td>\n",
       "      <td>{'n_epochs': 10, 'n_factors': 16, 'lr_all': 0....</td>\n",
       "      <td>10</td>\n",
       "      <td>16</td>\n",
       "      <td>0.01</td>\n",
       "      <td>0.02</td>\n",
       "    </tr>\n",
       "  </tbody>\n",
       "</table>\n",
       "</div>"
      ],
      "text/plain": [
       "   split0_test_rmse  split1_test_rmse  mean_test_rmse  std_test_rmse  \\\n",
       "0          0.840112          0.841907        0.841009       0.000897   \n",
       "1          0.839758          0.840256        0.840007       0.000249   \n",
       "2          0.839841          0.840149        0.839995       0.000154   \n",
       "3          0.839817          0.840535        0.840176       0.000359   \n",
       "\n",
       "   rank_test_rmse  split0_test_mae  split1_test_mae  mean_test_mae  \\\n",
       "0               4         0.653773         0.655035       0.654404   \n",
       "1               2         0.653335         0.653203       0.653269   \n",
       "2               1         0.653376         0.653008       0.653192   \n",
       "3               3         0.653154         0.653173       0.653163   \n",
       "\n",
       "   std_test_mae  rank_test_mae  mean_fit_time  std_fit_time  mean_test_time  \\\n",
       "0      0.000631              4    1297.600780      1.818793      299.728889   \n",
       "1      0.000066              3    1394.459228      1.441522      262.009202   \n",
       "2      0.000184              2    1602.726772      2.839012      302.321278   \n",
       "3      0.000009              1    2254.743243      7.953137      365.390478   \n",
       "\n",
       "   std_test_time                                             params  \\\n",
       "0       0.427801  {'n_epochs': 10, 'n_factors': 4, 'lr_all': 0.0...   \n",
       "1       0.146604  {'n_epochs': 10, 'n_factors': 8, 'lr_all': 0.0...   \n",
       "2       0.475336  {'n_epochs': 10, 'n_factors': 12, 'lr_all': 0....   \n",
       "3       0.847100  {'n_epochs': 10, 'n_factors': 16, 'lr_all': 0....   \n",
       "\n",
       "   param_n_epochs  param_n_factors  param_lr_all  param_reg_all  \n",
       "0              10                4          0.01           0.02  \n",
       "1              10                8          0.01           0.02  \n",
       "2              10               12          0.01           0.02  \n",
       "3              10               16          0.01           0.02  "
      ]
     },
     "execution_count": 14,
     "metadata": {},
     "output_type": "execute_result"
    }
   ],
   "source": [
    "gs_results_3 = pd.DataFrame.from_dict(gs_svdpp_3.cv_results)\n",
    "gs_results_3"
   ]
  },
  {
   "cell_type": "markdown",
   "metadata": {},
   "source": [
    "Compare the mean validation MAE for different number of factors:"
   ]
  },
  {
   "cell_type": "code",
   "execution_count": 33,
   "metadata": {},
   "outputs": [
    {
     "data": {
      "text/plain": [
       "num_factors\n",
       "4     0.654404\n",
       "8     0.653269\n",
       "12    0.653192\n",
       "16    0.653163\n",
       "Name: mean_test_mae, dtype: float64"
      ]
     },
     "execution_count": 33,
     "metadata": {},
     "output_type": "execute_result"
    }
   ],
   "source": [
    "mean_test_mae_3 = pd.Series(gs_results_3['mean_test_mae'].values, name='mean_test_mae', \n",
    "                          index=pd.Index(gs_results_3['param_n_factors'], name='num_factors'))\n",
    "mean_test_mae_3"
   ]
  },
  {
   "cell_type": "code",
   "execution_count": 35,
   "metadata": {},
   "outputs": [
    {
     "data": {
      "text/plain": [
       "<AxesSubplot:xlabel='num_factors'>"
      ]
     },
     "execution_count": 35,
     "metadata": {},
     "output_type": "execute_result"
    },
    {
     "data": {
      "image/png": "[encoded data removed]",
      "text/plain": [
       "<Figure size 432x288 with 1 Axes>"
      ]
     },
     "metadata": {
      "needs_background": "light"
     },
     "output_type": "display_data"
    }
   ],
   "source": [
    "mean_test_mae_3.plot(style='o--')"
   ]
  },
  {
   "cell_type": "markdown",
   "metadata": {},
   "source": [
    "#### Grid Search 4 (explore n_factors):"
   ]
  },
  {
   "cell_type": "code",
   "execution_count": 36,
   "metadata": {},
   "outputs": [],
   "source": [
    "param_grid_4 = {'n_epochs': [10], \n",
    "                'n_factors': [5, 6, 7, 9, 10, 11], \n",
    "                'lr_all': [0.01], \n",
    "                'reg_all': [0.02]}\n",
    "\n",
    "gs_svdpp_4 = GridSearchCV(SVDpp, param_grid_4, measures=['rmse', 'mae'], cv=2, n_jobs=2)\n",
    "\n",
    "gs_svdpp_4.fit(data)"
   ]
  },
  {
   "cell_type": "code",
   "execution_count": 37,
   "metadata": {},
   "outputs": [
    {
     "name": "stdout",
     "output_type": "stream",
     "text": [
      "{'n_epochs': 10, 'n_factors': 11, 'lr_all': 0.01, 'reg_all': 0.02}\n"
     ]
    }
   ],
   "source": [
    "# combination of parameters that gave the best MAE score\n",
    "print(gs_svdpp_4.best_params['mae'])"
   ]
  },
  {
   "cell_type": "code",
   "execution_count": 38,
   "metadata": {},
   "outputs": [
    {
     "data": {
      "text/html": [
       "<div>\n",
       "<style scoped>\n",
       "    .dataframe tbody tr th:only-of-type {\n",
       "        vertical-align: middle;\n",
       "    }\n",
       "\n",
       "    .dataframe tbody tr th {\n",
       "        vertical-align: top;\n",
       "    }\n",
       "\n",
       "    .dataframe thead th {\n",
       "        text-align: right;\n",
       "    }\n",
       "</style>\n",
       "<table border=\"1\" class=\"dataframe\">\n",
       "  <thead>\n",
       "    <tr style=\"text-align: right;\">\n",
       "      <th></th>\n",
       "      <th>split0_test_rmse</th>\n",
       "      <th>split1_test_rmse</th>\n",
       "      <th>mean_test_rmse</th>\n",
       "      <th>std_test_rmse</th>\n",
       "      <th>rank_test_rmse</th>\n",
       "      <th>split0_test_mae</th>\n",
       "      <th>split1_test_mae</th>\n",
       "      <th>mean_test_mae</th>\n",
       "      <th>std_test_mae</th>\n",
       "      <th>rank_test_mae</th>\n",
       "      <th>mean_fit_time</th>\n",
       "      <th>std_fit_time</th>\n",
       "      <th>mean_test_time</th>\n",
       "      <th>std_test_time</th>\n",
       "      <th>params</th>\n",
       "      <th>param_n_epochs</th>\n",
       "      <th>param_n_factors</th>\n",
       "      <th>param_lr_all</th>\n",
       "      <th>param_reg_all</th>\n",
       "    </tr>\n",
       "  </thead>\n",
       "  <tbody>\n",
       "    <tr>\n",
       "      <th>0</th>\n",
       "      <td>0.841190</td>\n",
       "      <td>0.842028</td>\n",
       "      <td>0.841609</td>\n",
       "      <td>0.000419</td>\n",
       "      <td>6</td>\n",
       "      <td>0.654876</td>\n",
       "      <td>0.654926</td>\n",
       "      <td>0.654901</td>\n",
       "      <td>0.000025</td>\n",
       "      <td>6</td>\n",
       "      <td>1266.179453</td>\n",
       "      <td>3.023142</td>\n",
       "      <td>268.571121</td>\n",
       "      <td>3.064671</td>\n",
       "      <td>{'n_epochs': 10, 'n_factors': 5, 'lr_all': 0.0...</td>\n",
       "      <td>10</td>\n",
       "      <td>5</td>\n",
       "      <td>0.01</td>\n",
       "      <td>0.02</td>\n",
       "    </tr>\n",
       "    <tr>\n",
       "      <th>1</th>\n",
       "      <td>0.840653</td>\n",
       "      <td>0.840327</td>\n",
       "      <td>0.840490</td>\n",
       "      <td>0.000163</td>\n",
       "      <td>2</td>\n",
       "      <td>0.654237</td>\n",
       "      <td>0.653285</td>\n",
       "      <td>0.653761</td>\n",
       "      <td>0.000476</td>\n",
       "      <td>2</td>\n",
       "      <td>1342.831069</td>\n",
       "      <td>1.849312</td>\n",
       "      <td>284.208439</td>\n",
       "      <td>0.343243</td>\n",
       "      <td>{'n_epochs': 10, 'n_factors': 6, 'lr_all': 0.0...</td>\n",
       "      <td>10</td>\n",
       "      <td>6</td>\n",
       "      <td>0.01</td>\n",
       "      <td>0.02</td>\n",
       "    </tr>\n",
       "    <tr>\n",
       "      <th>2</th>\n",
       "      <td>0.839692</td>\n",
       "      <td>0.841481</td>\n",
       "      <td>0.840587</td>\n",
       "      <td>0.000895</td>\n",
       "      <td>3</td>\n",
       "      <td>0.653401</td>\n",
       "      <td>0.654345</td>\n",
       "      <td>0.653873</td>\n",
       "      <td>0.000472</td>\n",
       "      <td>4</td>\n",
       "      <td>1398.500218</td>\n",
       "      <td>0.457324</td>\n",
       "      <td>301.229504</td>\n",
       "      <td>0.327232</td>\n",
       "      <td>{'n_epochs': 10, 'n_factors': 7, 'lr_all': 0.0...</td>\n",
       "      <td>10</td>\n",
       "      <td>7</td>\n",
       "      <td>0.01</td>\n",
       "      <td>0.02</td>\n",
       "    </tr>\n",
       "    <tr>\n",
       "      <th>3</th>\n",
       "      <td>0.840126</td>\n",
       "      <td>0.841397</td>\n",
       "      <td>0.840762</td>\n",
       "      <td>0.000636</td>\n",
       "      <td>5</td>\n",
       "      <td>0.653708</td>\n",
       "      <td>0.654135</td>\n",
       "      <td>0.653921</td>\n",
       "      <td>0.000213</td>\n",
       "      <td>5</td>\n",
       "      <td>1488.465553</td>\n",
       "      <td>4.426137</td>\n",
       "      <td>302.749080</td>\n",
       "      <td>0.558896</td>\n",
       "      <td>{'n_epochs': 10, 'n_factors': 9, 'lr_all': 0.0...</td>\n",
       "      <td>10</td>\n",
       "      <td>9</td>\n",
       "      <td>0.01</td>\n",
       "      <td>0.02</td>\n",
       "    </tr>\n",
       "    <tr>\n",
       "      <th>4</th>\n",
       "      <td>0.840549</td>\n",
       "      <td>0.840833</td>\n",
       "      <td>0.840691</td>\n",
       "      <td>0.000142</td>\n",
       "      <td>4</td>\n",
       "      <td>0.654024</td>\n",
       "      <td>0.653665</td>\n",
       "      <td>0.653844</td>\n",
       "      <td>0.000179</td>\n",
       "      <td>3</td>\n",
       "      <td>1592.085426</td>\n",
       "      <td>0.040029</td>\n",
       "      <td>303.937923</td>\n",
       "      <td>0.983199</td>\n",
       "      <td>{'n_epochs': 10, 'n_factors': 10, 'lr_all': 0....</td>\n",
       "      <td>10</td>\n",
       "      <td>10</td>\n",
       "      <td>0.01</td>\n",
       "      <td>0.02</td>\n",
       "    </tr>\n",
       "    <tr>\n",
       "      <th>5</th>\n",
       "      <td>0.839558</td>\n",
       "      <td>0.840756</td>\n",
       "      <td>0.840157</td>\n",
       "      <td>0.000599</td>\n",
       "      <td>1</td>\n",
       "      <td>0.652981</td>\n",
       "      <td>0.653398</td>\n",
       "      <td>0.653190</td>\n",
       "      <td>0.000208</td>\n",
       "      <td>1</td>\n",
       "      <td>1646.917433</td>\n",
       "      <td>0.602426</td>\n",
       "      <td>302.496402</td>\n",
       "      <td>0.366261</td>\n",
       "      <td>{'n_epochs': 10, 'n_factors': 11, 'lr_all': 0....</td>\n",
       "      <td>10</td>\n",
       "      <td>11</td>\n",
       "      <td>0.01</td>\n",
       "      <td>0.02</td>\n",
       "    </tr>\n",
       "  </tbody>\n",
       "</table>\n",
       "</div>"
      ],
      "text/plain": [
       "   split0_test_rmse  split1_test_rmse  mean_test_rmse  std_test_rmse  \\\n",
       "0          0.841190          0.842028        0.841609       0.000419   \n",
       "1          0.840653          0.840327        0.840490       0.000163   \n",
       "2          0.839692          0.841481        0.840587       0.000895   \n",
       "3          0.840126          0.841397        0.840762       0.000636   \n",
       "4          0.840549          0.840833        0.840691       0.000142   \n",
       "5          0.839558          0.840756        0.840157       0.000599   \n",
       "\n",
       "   rank_test_rmse  split0_test_mae  split1_test_mae  mean_test_mae  \\\n",
       "0               6         0.654876         0.654926       0.654901   \n",
       "1               2         0.654237         0.653285       0.653761   \n",
       "2               3         0.653401         0.654345       0.653873   \n",
       "3               5         0.653708         0.654135       0.653921   \n",
       "4               4         0.654024         0.653665       0.653844   \n",
       "5               1         0.652981         0.653398       0.653190   \n",
       "\n",
       "   std_test_mae  rank_test_mae  mean_fit_time  std_fit_time  mean_test_time  \\\n",
       "0      0.000025              6    1266.179453      3.023142      268.571121   \n",
       "1      0.000476              2    1342.831069      1.849312      284.208439   \n",
       "2      0.000472              4    1398.500218      0.457324      301.229504   \n",
       "3      0.000213              5    1488.465553      4.426137      302.749080   \n",
       "4      0.000179              3    1592.085426      0.040029      303.937923   \n",
       "5      0.000208              1    1646.917433      0.602426      302.496402   \n",
       "\n",
       "   std_test_time                                             params  \\\n",
       "0       3.064671  {'n_epochs': 10, 'n_factors': 5, 'lr_all': 0.0...   \n",
       "1       0.343243  {'n_epochs': 10, 'n_factors': 6, 'lr_all': 0.0...   \n",
       "2       0.327232  {'n_epochs': 10, 'n_factors': 7, 'lr_all': 0.0...   \n",
       "3       0.558896  {'n_epochs': 10, 'n_factors': 9, 'lr_all': 0.0...   \n",
       "4       0.983199  {'n_epochs': 10, 'n_factors': 10, 'lr_all': 0....   \n",
       "5       0.366261  {'n_epochs': 10, 'n_factors': 11, 'lr_all': 0....   \n",
       "\n",
       "   param_n_epochs  param_n_factors  param_lr_all  param_reg_all  \n",
       "0              10                5          0.01           0.02  \n",
       "1              10                6          0.01           0.02  \n",
       "2              10                7          0.01           0.02  \n",
       "3              10                9          0.01           0.02  \n",
       "4              10               10          0.01           0.02  \n",
       "5              10               11          0.01           0.02  "
      ]
     },
     "execution_count": 38,
     "metadata": {},
     "output_type": "execute_result"
    }
   ],
   "source": [
    "gs_results_4 = pd.DataFrame.from_dict(gs_svdpp_4.cv_results)\n",
    "gs_results_4"
   ]
  },
  {
   "cell_type": "markdown",
   "metadata": {},
   "source": [
    "Compare the mean validation MAE for different number of factors:"
   ]
  },
  {
   "cell_type": "code",
   "execution_count": 40,
   "metadata": {},
   "outputs": [
    {
     "data": {
      "text/plain": [
       "num_factors\n",
       "5     0.654901\n",
       "6     0.653761\n",
       "7     0.653873\n",
       "9     0.653921\n",
       "10    0.653844\n",
       "11    0.653190\n",
       "Name: mean_test_mae, dtype: float64"
      ]
     },
     "execution_count": 40,
     "metadata": {},
     "output_type": "execute_result"
    }
   ],
   "source": [
    "mean_test_mae_4 = pd.Series(gs_results_4['mean_test_mae'].values, name='mean_test_mae', \n",
    "                            index=pd.Index(gs_results_4['param_n_factors'], name='num_factors'))\n",
    "mean_test_mae_4"
   ]
  },
  {
   "cell_type": "code",
   "execution_count": 42,
   "metadata": {},
   "outputs": [
    {
     "data": {
      "text/plain": [
       "<AxesSubplot:xlabel='num_factors'>"
      ]
     },
     "execution_count": 42,
     "metadata": {},
     "output_type": "execute_result"
    },
    {
     "data": {
      "image/png": "[encoded data removed]",
      "text/plain": [
       "<Figure size 432x288 with 1 Axes>"
      ]
     },
     "metadata": {
      "needs_background": "light"
     },
     "output_type": "display_data"
    }
   ],
   "source": [
    "mean_test_mae_4.plot(style='o--')"
   ]
  },
  {
   "cell_type": "markdown",
   "metadata": {},
   "source": [
    "Combine the results from grid searches 3 and 4:"
   ]
  },
  {
   "cell_type": "code",
   "execution_count": 50,
   "metadata": {},
   "outputs": [
    {
     "data": {
      "text/plain": [
       "num_factors\n",
       "4     0.654404\n",
       "5     0.654901\n",
       "6     0.653761\n",
       "7     0.653873\n",
       "8     0.653269\n",
       "9     0.653921\n",
       "10    0.653844\n",
       "11    0.653190\n",
       "12    0.653192\n",
       "16    0.653163\n",
       "Name: mean_test_mae, dtype: float64"
      ]
     },
     "execution_count": 50,
     "metadata": {},
     "output_type": "execute_result"
    }
   ],
   "source": [
    "concat_test_mae = pd.concat([mean_test_mae_3, mean_test_mae_4]).sort_index()\n",
    "concat_test_mae"
   ]
  },
  {
   "cell_type": "code",
   "execution_count": 51,
   "metadata": {},
   "outputs": [
    {
     "data": {
      "text/plain": [
       "<AxesSubplot:xlabel='num_factors'>"
      ]
     },
     "execution_count": 51,
     "metadata": {},
     "output_type": "execute_result"
    },
    {
     "data": {
      "image/png": "[encoded data removed]",
      "text/plain": [
       "<Figure size 432x288 with 1 Axes>"
      ]
     },
     "metadata": {
      "needs_background": "light"
     },
     "output_type": "display_data"
    }
   ],
   "source": [
    "# Mean validation MAE\n",
    "# The lowest values are for number of factors 8, 11 and greater than 11\n",
    "\n",
    "concat_test_mae.plot(style='o--')"
   ]
  },
  {
   "cell_type": "markdown",
   "metadata": {},
   "source": [
    "Choose num_factors = 8\n",
    "\n",
    "#### Grid Search 5 (select n_epochs):"
   ]
  },
  {
   "cell_type": "code",
   "execution_count": 52,
   "metadata": {},
   "outputs": [],
   "source": [
    "param_grid_5 = {'n_epochs': [15, 20, 25], \n",
    "                'n_factors': [8], \n",
    "                'lr_all': [0.01], \n",
    "                'reg_all': [0.02]}\n",
    "\n",
    "gs_svdpp_5 = GridSearchCV(SVDpp, param_grid_5, measures=['rmse', 'mae'], cv=2, n_jobs=2)\n",
    "\n",
    "gs_svdpp_5.fit(data)"
   ]
  },
  {
   "cell_type": "code",
   "execution_count": 55,
   "metadata": {},
   "outputs": [
    {
     "name": "stdout",
     "output_type": "stream",
     "text": [
      "0.6517469650500047\n"
     ]
    }
   ],
   "source": [
    "# best MAE score\n",
    "print(gs_svdpp_5.best_score['mae'])"
   ]
  },
  {
   "cell_type": "code",
   "execution_count": 56,
   "metadata": {},
   "outputs": [
    {
     "name": "stdout",
     "output_type": "stream",
     "text": [
      "{'n_epochs': 15, 'n_factors': 8, 'lr_all': 0.01, 'reg_all': 0.02}\n"
     ]
    }
   ],
   "source": [
    "# combination of parameters that gave the best MAE score\n",
    "print(gs_svdpp_5.best_params['mae'])"
   ]
  },
  {
   "cell_type": "code",
   "execution_count": 57,
   "metadata": {},
   "outputs": [
    {
     "data": {
      "text/html": [
       "<div>\n",
       "<style scoped>\n",
       "    .dataframe tbody tr th:only-of-type {\n",
       "        vertical-align: middle;\n",
       "    }\n",
       "\n",
       "    .dataframe tbody tr th {\n",
       "        vertical-align: top;\n",
       "    }\n",
       "\n",
       "    .dataframe thead th {\n",
       "        text-align: right;\n",
       "    }\n",
       "</style>\n",
       "<table border=\"1\" class=\"dataframe\">\n",
       "  <thead>\n",
       "    <tr style=\"text-align: right;\">\n",
       "      <th></th>\n",
       "      <th>split0_test_rmse</th>\n",
       "      <th>split1_test_rmse</th>\n",
       "      <th>mean_test_rmse</th>\n",
       "      <th>std_test_rmse</th>\n",
       "      <th>rank_test_rmse</th>\n",
       "      <th>split0_test_mae</th>\n",
       "      <th>split1_test_mae</th>\n",
       "      <th>mean_test_mae</th>\n",
       "      <th>std_test_mae</th>\n",
       "      <th>rank_test_mae</th>\n",
       "      <th>mean_fit_time</th>\n",
       "      <th>std_fit_time</th>\n",
       "      <th>mean_test_time</th>\n",
       "      <th>std_test_time</th>\n",
       "      <th>params</th>\n",
       "      <th>param_n_epochs</th>\n",
       "      <th>param_n_factors</th>\n",
       "      <th>param_lr_all</th>\n",
       "      <th>param_reg_all</th>\n",
       "    </tr>\n",
       "  </thead>\n",
       "  <tbody>\n",
       "    <tr>\n",
       "      <th>0</th>\n",
       "      <td>0.841514</td>\n",
       "      <td>0.841718</td>\n",
       "      <td>0.841616</td>\n",
       "      <td>0.000102</td>\n",
       "      <td>1</td>\n",
       "      <td>0.651249</td>\n",
       "      <td>0.652245</td>\n",
       "      <td>0.651747</td>\n",
       "      <td>0.000498</td>\n",
       "      <td>1</td>\n",
       "      <td>2344.329885</td>\n",
       "      <td>5.977741</td>\n",
       "      <td>262.652161</td>\n",
       "      <td>0.387275</td>\n",
       "      <td>{'n_epochs': 15, 'n_factors': 8, 'lr_all': 0.0...</td>\n",
       "      <td>15</td>\n",
       "      <td>8</td>\n",
       "      <td>0.01</td>\n",
       "      <td>0.02</td>\n",
       "    </tr>\n",
       "    <tr>\n",
       "      <th>1</th>\n",
       "      <td>0.846779</td>\n",
       "      <td>0.846887</td>\n",
       "      <td>0.846833</td>\n",
       "      <td>0.000054</td>\n",
       "      <td>2</td>\n",
       "      <td>0.652649</td>\n",
       "      <td>0.653659</td>\n",
       "      <td>0.653154</td>\n",
       "      <td>0.000505</td>\n",
       "      <td>2</td>\n",
       "      <td>2808.220288</td>\n",
       "      <td>3.296838</td>\n",
       "      <td>261.978684</td>\n",
       "      <td>0.005004</td>\n",
       "      <td>{'n_epochs': 20, 'n_factors': 8, 'lr_all': 0.0...</td>\n",
       "      <td>20</td>\n",
       "      <td>8</td>\n",
       "      <td>0.01</td>\n",
       "      <td>0.02</td>\n",
       "    </tr>\n",
       "    <tr>\n",
       "      <th>2</th>\n",
       "      <td>0.852610</td>\n",
       "      <td>0.853364</td>\n",
       "      <td>0.852987</td>\n",
       "      <td>0.000377</td>\n",
       "      <td>3</td>\n",
       "      <td>0.655196</td>\n",
       "      <td>0.656258</td>\n",
       "      <td>0.655727</td>\n",
       "      <td>0.000531</td>\n",
       "      <td>3</td>\n",
       "      <td>3627.402585</td>\n",
       "      <td>11.244469</td>\n",
       "      <td>258.892004</td>\n",
       "      <td>0.021524</td>\n",
       "      <td>{'n_epochs': 25, 'n_factors': 8, 'lr_all': 0.0...</td>\n",
       "      <td>25</td>\n",
       "      <td>8</td>\n",
       "      <td>0.01</td>\n",
       "      <td>0.02</td>\n",
       "    </tr>\n",
       "  </tbody>\n",
       "</table>\n",
       "</div>"
      ],
      "text/plain": [
       "   split0_test_rmse  split1_test_rmse  mean_test_rmse  std_test_rmse  \\\n",
       "0          0.841514          0.841718        0.841616       0.000102   \n",
       "1          0.846779          0.846887        0.846833       0.000054   \n",
       "2          0.852610          0.853364        0.852987       0.000377   \n",
       "\n",
       "   rank_test_rmse  split0_test_mae  split1_test_mae  mean_test_mae  \\\n",
       "0               1         0.651249         0.652245       0.651747   \n",
       "1               2         0.652649         0.653659       0.653154   \n",
       "2               3         0.655196         0.656258       0.655727   \n",
       "\n",
       "   std_test_mae  rank_test_mae  mean_fit_time  std_fit_time  mean_test_time  \\\n",
       "0      0.000498              1    2344.329885      5.977741      262.652161   \n",
       "1      0.000505              2    2808.220288      3.296838      261.978684   \n",
       "2      0.000531              3    3627.402585     11.244469      258.892004   \n",
       "\n",
       "   std_test_time                                             params  \\\n",
       "0       0.387275  {'n_epochs': 15, 'n_factors': 8, 'lr_all': 0.0...   \n",
       "1       0.005004  {'n_epochs': 20, 'n_factors': 8, 'lr_all': 0.0...   \n",
       "2       0.021524  {'n_epochs': 25, 'n_factors': 8, 'lr_all': 0.0...   \n",
       "\n",
       "   param_n_epochs  param_n_factors  param_lr_all  param_reg_all  \n",
       "0              15                8          0.01           0.02  \n",
       "1              20                8          0.01           0.02  \n",
       "2              25                8          0.01           0.02  "
      ]
     },
     "execution_count": 57,
     "metadata": {},
     "output_type": "execute_result"
    }
   ],
   "source": [
    "gs_results_5 = pd.DataFrame.from_dict(gs_svdpp_5.cv_results)\n",
    "gs_results_5"
   ]
  },
  {
   "cell_type": "markdown",
   "metadata": {},
   "source": [
    "### Chosen hyperparameters for SVD++:\n",
    "- n_epochs = 15\n",
    "- n_factors = 8\n",
    "- lr_all = 0.01\n",
    "- reg_all = 0.02\n",
    "\n",
    "Mean validation MAE = 0.652\n",
    "\n",
    "Mean validation RMSE = 0.842"
   ]
  }
 ],
 "metadata": {
  "interpreter": {
   "hash": "a698be0b48003a334c31a3f8e5600c0b8c4ac4b13c41f594d6ef3259800b67f3"
  },
  "kernelspec": {
   "display_name": "Python 3.8.12 64-bit ('bootcamp_env': conda)",
   "language": "python",
   "name": "python3"
  },
  "language_info": {
   "codemirror_mode": {
    "name": "ipython",
    "version": 3
   },
   "file_extension": ".py",
   "mimetype": "text/x-python",
   "name": "python",
   "nbconvert_exporter": "python",
   "pygments_lexer": "ipython3",
   "version": "3.8.12"
  },
  "orig_nbformat": 4
 },
 "nbformat": 4,
 "nbformat_minor": 2
}
